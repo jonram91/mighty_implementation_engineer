{
 "cells": [
  {
   "cell_type": "markdown",
   "metadata": {},
   "source": [
    "<h1> Python Challenge </h1>\n",
    "\n",
    "This notebook contains several helper functions and a final function to convert strings containing social security numbers and output strings in the format '123-45-6789'.\n",
    "\n",
    "Tests below demonstrate that each of the helper functions and the final function behaves as expected."
   ]
  },
  {
   "cell_type": "code",
   "execution_count": 1,
   "metadata": {
    "collapsed": true
   },
   "outputs": [],
   "source": [
    "def remove_non_nums(string_of_nums):\n",
    "\n",
    "    \"\"\"\n",
    "    This helper function looks at every character in a string of numbers and returns a string of only numeric characters.\n",
    "\n",
    "    e.g. remove_non_nums('01-2-3') would return '0123'\n",
    "    \"\"\"\n",
    "\n",
    "    output = ''\n",
    "\n",
    "    for char in string_of_nums:\n",
    "\n",
    "        if char in '0123456789':\n",
    "\n",
    "            output += char\n",
    "\n",
    "    return output"
   ]
  },
  {
   "cell_type": "code",
   "execution_count": 2,
   "metadata": {},
   "outputs": [
    {
     "data": {
      "text/plain": [
       "'0123'"
      ]
     },
     "execution_count": 2,
     "metadata": {},
     "output_type": "execute_result"
    }
   ],
   "source": [
    "remove_non_nums('01-2-3')"
   ]
  },
  {
   "cell_type": "code",
   "execution_count": 3,
   "metadata": {
    "collapsed": true
   },
   "outputs": [],
   "source": [
    "def ss_format(final_num_str):\n",
    "\n",
    "    \"\"\"\n",
    "    This function takes a final cleaned and padded numerical \n",
    "    string and returns it in the format '123-45-6789.'\n",
    "    \"\"\"\n",
    "\n",
    "    return final_num_str[:3] + '-' + final_num_str[3:5] + '-' + final_num_str [5:]"
   ]
  },
  {
   "cell_type": "code",
   "execution_count": 4,
   "metadata": {},
   "outputs": [],
   "source": [
    "def ss_cleaner(social_sec):\n",
    "\n",
    "    \"\"\"\n",
    "    This function takes a string and converts it to\n",
    "    the format 123-45-6789 outputing it as a string.\n",
    "    -----------------------------------------------\n",
    "    INPUT: social_sec (string)\n",
    "    OUTPUT: Reformatted social_sec in format \"123-45-6789\"\n",
    "\n",
    "    Special cases:\n",
    "\n",
    "    1) Fewer than 9 digits - Pad with 0s on front\n",
    "    2) More than 9 digits - Take only first 9\n",
    "    3) Empty string - Return empty string\n",
    "\n",
    "    \"\"\"\n",
    "    \n",
    "    #Ensuring that input is a string\n",
    "    \n",
    "    assert isinstance(social_sec, str), \"Input must be a string!\"\n",
    "    \n",
    "    #Empty strings input will return empty strings\n",
    "\n",
    "    if social_sec == \"\":\n",
    "\n",
    "        return social_sec\n",
    "    \n",
    "    #Calling the helper function to remove any non-numerical chars\n",
    "\n",
    "    numerical_chars = remove_non_nums(social_sec)\n",
    "    \n",
    "    #Anything longer than 9 chars is truncated.\n",
    "\n",
    "    if len(numerical_chars) >= 9:\n",
    "\n",
    "        return ss_format(numerical_chars[:9]) \n",
    "    \n",
    "    #Anything less than 9 characters is padded with 0s\n",
    "\n",
    "    elif len(numerical_chars) < 9:\n",
    "\n",
    "        numerical_chars = '0'*(9-len(numerical_chars)) + numerical_chars\n",
    "        \n",
    "        return ss_format(numerical_chars)"
   ]
  },
  {
   "cell_type": "code",
   "execution_count": 5,
   "metadata": {},
   "outputs": [
    {
     "name": "stdout",
     "output_type": "stream",
     "text": [
      "000-00-9876\n",
      "987-65-4321\n",
      "123-45-6789\n",
      "789-52-6345\n",
      "000-12-3456\n"
     ]
    }
   ],
   "source": [
    "for ss in ['9876', \n",
    "           '987654321', \n",
    "           '1234567891', \n",
    "           '789526345 -- client ssn', \n",
    "           'XXX-12-3456']:\n",
    "    \n",
    "    print(ss_cleaner(ss))"
   ]
  }
 ],
 "metadata": {
  "kernelspec": {
   "display_name": "Python [py35]",
   "language": "python",
   "name": "Python [py35]"
  },
  "language_info": {
   "codemirror_mode": {
    "name": "ipython",
    "version": 3
   },
   "file_extension": ".py",
   "mimetype": "text/x-python",
   "name": "python",
   "nbconvert_exporter": "python",
   "pygments_lexer": "ipython3",
   "version": "3.5.3"
  }
 },
 "nbformat": 4,
 "nbformat_minor": 2
}
